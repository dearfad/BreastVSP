{
 "cells": [
  {
   "cell_type": "code",
   "execution_count": 1,
   "metadata": {},
   "outputs": [
    {
     "data": {
      "application/vnd.jupyter.widget-view+json": {
       "model_id": "2fbb7a425ccf4c729db40de12a7d07bc",
       "version_major": 2,
       "version_minor": 0
      },
      "text/plain": [
       "Loading checkpoint shards:   0%|          | 0/7 [00:00<?, ?it/s]"
      ]
     },
     "metadata": {},
     "output_type": "display_data"
    }
   ],
   "source": [
    "from libs.chatglm3 import ChatGLM3\n",
    "MODEL_PATH = \"D:\\Github\\Repositories\\models\\huggingface\\chatglm3-6b\"\n",
    "llm = ChatGLM3()\n",
    "llm.load_model(MODEL_PATH)"
   ]
  },
  {
   "cell_type": "code",
   "execution_count": 2,
   "metadata": {},
   "outputs": [],
   "source": [
    "import torch\n",
    "from langchain_core.prompts import ChatPromptTemplate\n",
    "from langchain.chains.combine_documents import create_stuff_documents_chain\n",
    "from langchain.chains import create_retrieval_chain\n",
    "from langchain_core.documents import Document\n",
    "from langchain_community.llms import Tongyi"
   ]
  },
  {
   "cell_type": "code",
   "execution_count": 3,
   "metadata": {},
   "outputs": [],
   "source": [
    "\n",
    "# llm = Tongyi()"
   ]
  },
  {
   "cell_type": "code",
   "execution_count": 4,
   "metadata": {},
   "outputs": [],
   "source": [
    "from langchain.document_loaders import UnstructuredFileLoader\n",
    "loader = UnstructuredFileLoader('./static/books/2022版中国乳腺癌随诊随访与健康管理指南.txt')\n",
    "docs = loader.load()"
   ]
  },
  {
   "cell_type": "code",
   "execution_count": 5,
   "metadata": {},
   "outputs": [],
   "source": [
    "from langchain.embeddings.huggingface import HuggingFaceEmbeddings\n",
    "# encode_kwargs = {'normalize_embeddings': False}\n",
    "# embeddings = HuggingFaceEmbeddings(\n",
    "#     model_name='shibing624/text2vec-base-chinese', encode_kwargs=encode_kwargs)\n",
    "embeddings = HuggingFaceEmbeddings(model_name='shibing624/text2vec-base-chinese')"
   ]
  },
  {
   "cell_type": "code",
   "execution_count": 6,
   "metadata": {},
   "outputs": [],
   "source": [
    "from langchain_community.vectorstores import FAISS\n",
    "from langchain.text_splitter import RecursiveCharacterTextSplitter\n",
    "\n",
    "\n",
    "text_splitter = RecursiveCharacterTextSplitter(chunk_size=256, chunk_overlap=32)\n",
    "documents = text_splitter.split_documents(docs)\n",
    "vector = FAISS.from_documents(documents, embeddings)"
   ]
  },
  {
   "cell_type": "code",
   "execution_count": 7,
   "metadata": {},
   "outputs": [],
   "source": [
    "from langchain.chains.combine_documents import create_stuff_documents_chain\n",
    "\n",
    "prompt = ChatPromptTemplate.from_template(\"\"\"Answer the following question based only on the provided context:\n",
    "\n",
    "<context>\n",
    "{context}\n",
    "</context>\n",
    "\n",
    "Question: {input}\"\"\")\n",
    "\n",
    "document_chain = create_stuff_documents_chain(llm, prompt)"
   ]
  },
  {
   "cell_type": "code",
   "execution_count": 8,
   "metadata": {},
   "outputs": [],
   "source": [
    "from langchain.chains import create_retrieval_chain\n",
    "\n",
    "retriever = vector.as_retriever()\n",
    "retrieval_chain = create_retrieval_chain(retriever, document_chain)"
   ]
  },
  {
   "cell_type": "code",
   "execution_count": 9,
   "metadata": {},
   "outputs": [
    {
     "name": "stdout",
     "output_type": "stream",
     "text": [
      "子宫内膜增厚的管理方法包括：\n",
      "\n",
      "1. 内分泌治疗：对于使用内分泌药物（如他莫昔芬）治疗的患者，需要关注子宫内膜增厚的问题。针对绝经前患者，若子宫内膜厚度在月经周期的不同阶段存在显著差异，增殖期子宫内膜厚度≥12 mm，则判断为子宫内膜增厚。针对绝经后患者，若服用他莫昔芬的患者子宮内膜厚度≥8 mm，或服用AI或托瑞米芬的病人子宫内膜厚度≥4 mm，则判断为子宫内膜增厚。这些方法需要结合临床症状及经阴道超声综合判断子宫内膜增厚情况。\n",
      "\n",
      "2. 随诊检测：对于已出现子宫内膜增厚的患者，应提高随访频率，建议每3~6个月进行检测。\n",
      "\n",
      "3. 生活及性生活管理：健康及适度的性生活有利于乳腺癌患者的身心康复，但需要提醒患者注意避孕，推荐物理屏障避孕法，避免使用激素类药物避孕法。\n",
      "\n",
      "4. 治疗：当子宫内膜检查结果异常时，首先应判断是否与内分泌药物（如他莫昔芬）相关，随后依据评估结果给予适当的治疗。\n"
     ]
    }
   ],
   "source": [
    "response = retrieval_chain.invoke({\"input\": \"子宫内膜增厚的管理有哪些方法?\"})\n",
    "print(response[\"answer\"])\n"
   ]
  },
  {
   "cell_type": "code",
   "execution_count": 16,
   "metadata": {},
   "outputs": [
    {
     "name": "stdout",
     "output_type": "stream",
     "text": [
      "乳腺纤维化与TGFB1基因有关，同时伴有至少一个拷贝C⁃509T时，患者在保乳术后全乳放疗后发生乳腺纤维化的风险明显增加。\n"
     ]
    }
   ],
   "source": [
    "torch.cuda.empty_cache()\n",
    "response = retrieval_chain.invoke({\"input\": \"乳腺纤维化跟哪些基因有关?\"})\n",
    "print(response[\"answer\"])\n"
   ]
  },
  {
   "cell_type": "code",
   "execution_count": 14,
   "metadata": {},
   "outputs": [],
   "source": [
    "llm.history=[]"
   ]
  },
  {
   "cell_type": "code",
   "execution_count": null,
   "metadata": {},
   "outputs": [],
   "source": []
  }
 ],
 "metadata": {
  "kernelspec": {
   "display_name": "breastvsp",
   "language": "python",
   "name": "python3"
  },
  "language_info": {
   "codemirror_mode": {
    "name": "ipython",
    "version": 3
   },
   "file_extension": ".py",
   "mimetype": "text/x-python",
   "name": "python",
   "nbconvert_exporter": "python",
   "pygments_lexer": "ipython3",
   "version": "3.10.13"
  }
 },
 "nbformat": 4,
 "nbformat_minor": 2
}
