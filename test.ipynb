{
 "cells": [
  {
   "cell_type": "code",
   "execution_count": 1,
   "metadata": {},
   "outputs": [],
   "source": [
    "from libs.chatglm3 import ChatGLM3"
   ]
  },
  {
   "cell_type": "code",
   "execution_count": 2,
   "metadata": {},
   "outputs": [
    {
     "data": {
      "application/vnd.jupyter.widget-view+json": {
       "model_id": "7d8595ca634c416cbf1d845dcf9a31dc",
       "version_major": 2,
       "version_minor": 0
      },
      "text/plain": [
       "Loading checkpoint shards:   0%|          | 0/7 [00:00<?, ?it/s]"
      ]
     },
     "metadata": {},
     "output_type": "display_data"
    }
   ],
   "source": [
    "MODEL_PATH = 'D:\\Github\\Repositories\\models\\huggingface\\chatglm3-6b'\n",
    "llm = ChatGLM3()\n",
    "llm.load_model(MODEL_PATH)"
   ]
  },
  {
   "cell_type": "code",
   "execution_count": 3,
   "metadata": {},
   "outputs": [],
   "source": [
    "from langchain_community.document_loaders import DirectoryLoader"
   ]
  },
  {
   "cell_type": "code",
   "execution_count": 4,
   "metadata": {},
   "outputs": [],
   "source": [
    "loader = DirectoryLoader('./static/books')\n",
    "# documents = loader.load()   "
   ]
  },
  {
   "cell_type": "code",
   "execution_count": 5,
   "metadata": {},
   "outputs": [],
   "source": [
    "import pickle"
   ]
  },
  {
   "cell_type": "code",
   "execution_count": 6,
   "metadata": {},
   "outputs": [],
   "source": [
    "# with open('data.pickle', 'wb') as f:\n",
    "#     pickle.dump(documents, f)"
   ]
  },
  {
   "cell_type": "code",
   "execution_count": 7,
   "metadata": {},
   "outputs": [],
   "source": [
    "with open('data.pickle', 'rb') as f:\n",
    "    documents = pickle.load(f)"
   ]
  },
  {
   "cell_type": "code",
   "execution_count": 8,
   "metadata": {},
   "outputs": [],
   "source": [
    "from langchain.text_splitter import CharacterTextSplitter"
   ]
  },
  {
   "cell_type": "code",
   "execution_count": 9,
   "metadata": {},
   "outputs": [],
   "source": [
    "text_splitter = CharacterTextSplitter(chunk_size=256, chunk_overlap=8)"
   ]
  },
  {
   "cell_type": "code",
   "execution_count": 10,
   "metadata": {},
   "outputs": [
    {
     "name": "stderr",
     "output_type": "stream",
     "text": [
      "Created a chunk of size 432, which is longer than the specified 256\n",
      "Created a chunk of size 1388, which is longer than the specified 256\n",
      "Created a chunk of size 513, which is longer than the specified 256\n",
      "Created a chunk of size 347, which is longer than the specified 256\n",
      "Created a chunk of size 422, which is longer than the specified 256\n",
      "Created a chunk of size 290, which is longer than the specified 256\n",
      "Created a chunk of size 269, which is longer than the specified 256\n",
      "Created a chunk of size 349, which is longer than the specified 256\n",
      "Created a chunk of size 488, which is longer than the specified 256\n",
      "Created a chunk of size 274, which is longer than the specified 256\n",
      "Created a chunk of size 410, which is longer than the specified 256\n",
      "Created a chunk of size 313, which is longer than the specified 256\n",
      "Created a chunk of size 259, which is longer than the specified 256\n",
      "Created a chunk of size 273, which is longer than the specified 256\n",
      "Created a chunk of size 382, which is longer than the specified 256\n",
      "Created a chunk of size 659, which is longer than the specified 256\n",
      "Created a chunk of size 270, which is longer than the specified 256\n",
      "Created a chunk of size 316, which is longer than the specified 256\n",
      "Created a chunk of size 262, which is longer than the specified 256\n",
      "Created a chunk of size 371, which is longer than the specified 256\n",
      "Created a chunk of size 352, which is longer than the specified 256\n",
      "Created a chunk of size 288, which is longer than the specified 256\n",
      "Created a chunk of size 466, which is longer than the specified 256\n",
      "Created a chunk of size 324, which is longer than the specified 256\n",
      "Created a chunk of size 357, which is longer than the specified 256\n",
      "Created a chunk of size 442, which is longer than the specified 256\n",
      "Created a chunk of size 589, which is longer than the specified 256\n",
      "Created a chunk of size 450, which is longer than the specified 256\n",
      "Created a chunk of size 315, which is longer than the specified 256\n",
      "Created a chunk of size 467, which is longer than the specified 256\n",
      "Created a chunk of size 296, which is longer than the specified 256\n",
      "Created a chunk of size 318, which is longer than the specified 256\n",
      "Created a chunk of size 519, which is longer than the specified 256\n",
      "Created a chunk of size 420, which is longer than the specified 256\n",
      "Created a chunk of size 361, which is longer than the specified 256\n",
      "Created a chunk of size 306, which is longer than the specified 256\n",
      "Created a chunk of size 272, which is longer than the specified 256\n",
      "Created a chunk of size 339, which is longer than the specified 256\n",
      "Created a chunk of size 341, which is longer than the specified 256\n",
      "Created a chunk of size 291, which is longer than the specified 256\n",
      "Created a chunk of size 261, which is longer than the specified 256\n",
      "Created a chunk of size 367, which is longer than the specified 256\n",
      "Created a chunk of size 261, which is longer than the specified 256\n",
      "Created a chunk of size 281, which is longer than the specified 256\n",
      "Created a chunk of size 409, which is longer than the specified 256\n",
      "Created a chunk of size 516, which is longer than the specified 256\n",
      "Created a chunk of size 282, which is longer than the specified 256\n",
      "Created a chunk of size 259, which is longer than the specified 256\n",
      "Created a chunk of size 280, which is longer than the specified 256\n",
      "Created a chunk of size 278, which is longer than the specified 256\n",
      "Created a chunk of size 260, which is longer than the specified 256\n",
      "Created a chunk of size 767, which is longer than the specified 256\n",
      "Created a chunk of size 294, which is longer than the specified 256\n",
      "Created a chunk of size 296, which is longer than the specified 256\n",
      "Created a chunk of size 352, which is longer than the specified 256\n"
     ]
    }
   ],
   "source": [
    "splitted_documents = text_splitter.split_documents(documents)"
   ]
  },
  {
   "cell_type": "code",
   "execution_count": 11,
   "metadata": {},
   "outputs": [],
   "source": [
    "from langchain.embeddings.huggingface import HuggingFaceEmbeddings"
   ]
  },
  {
   "cell_type": "code",
   "execution_count": 12,
   "metadata": {},
   "outputs": [],
   "source": [
    "encode_kwargs = {'normalize_embeddings': False}\n",
    "embeddings = HuggingFaceEmbeddings(model_name='shibing624/text2vec-base-chinese',encode_kwargs=encode_kwargs)"
   ]
  },
  {
   "cell_type": "code",
   "execution_count": 13,
   "metadata": {},
   "outputs": [],
   "source": [
    "from langchain.vectorstores import Chroma"
   ]
  },
  {
   "cell_type": "code",
   "execution_count": 14,
   "metadata": {},
   "outputs": [],
   "source": [
    "db = Chroma.from_documents(splitted_documents, embeddings)\n",
    "# db.persist()"
   ]
  },
  {
   "cell_type": "code",
   "execution_count": 15,
   "metadata": {},
   "outputs": [],
   "source": [
    "from langchain.chains import RetrievalQA"
   ]
  },
  {
   "cell_type": "code",
   "execution_count": 16,
   "metadata": {},
   "outputs": [],
   "source": [
    "retriever = db.as_retriever()"
   ]
  },
  {
   "cell_type": "code",
   "execution_count": 18,
   "metadata": {},
   "outputs": [],
   "source": [
    "# custom_rag_prompt = PromptTemplate.from_template(template=template)\n"
   ]
  },
  {
   "cell_type": "code",
   "execution_count": 19,
   "metadata": {},
   "outputs": [],
   "source": [
    "# def format_docs(docs):\n",
    "#     return \"\\n\\n\".join(document.page_content for document in documents)"
   ]
  },
  {
   "cell_type": "code",
   "execution_count": 19,
   "metadata": {},
   "outputs": [],
   "source": [
    "# from langchain.chains import ConversationalRetrievalChain"
   ]
  },
  {
   "cell_type": "code",
   "execution_count": 21,
   "metadata": {},
   "outputs": [],
   "source": [
    "# qa = ConversationalRetrievalChain.from_llm(\n",
    "#         llm=llm, retriever=retriever,\n",
    "#         return_source_documents=True,\n",
    "#         combine_docs_chain_kwargs={'prompt': custom_rag_prompt})"
   ]
  },
  {
   "cell_type": "code",
   "execution_count": 17,
   "metadata": {},
   "outputs": [],
   "source": [
    "qa = RetrievalQA.from_chain_type(\n",
    "    llm=llm,\n",
    "    chain_type='stuff',\n",
    "    retriever=retriever\n",
    ")"
   ]
  },
  {
   "cell_type": "code",
   "execution_count": 18,
   "metadata": {},
   "outputs": [
    {
     "name": "stderr",
     "output_type": "stream",
     "text": [
      "d:\\GitHub\\envs\\breastvsp\\lib\\site-packages\\langchain_core\\_api\\deprecation.py:189: LangChainDeprecationWarning: The function `run` was deprecated in LangChain 0.1.0 and will be removed in 0.2.0. Use invoke instead.\n",
      "  warn_deprecated(\n",
      "d:\\GitHub\\envs\\breastvsp\\lib\\site-packages\\langchain_core\\_api\\deprecation.py:189: LangChainDeprecationWarning: The function `__call__` was deprecated in LangChain 0.1.0 and will be removed in 0.2.0. Use invoke instead.\n",
      "  warn_deprecated(\n",
      "d:\\GitHub\\envs\\breastvsp\\lib\\site-packages\\langchain_core\\_api\\deprecation.py:189: LangChainDeprecationWarning: The function `__call__` was deprecated in LangChain 0.1.0 and will be removed in 0.2.0. Use invoke instead.\n",
      "  warn_deprecated(\n"
     ]
    },
    {
     "data": {
      "text/plain": [
       "{'query': ' 医学难以解释的症状是什么？',\n",
       " 'result': '医学难以解释的症状可能包括焦虑、抑郁、失眠、头晕、头痛、吸困难和腹痛、关注过度、强化躯体症状、新的症状、精神心理问题、不良反应、应激、无法放松、变得容易烦躁或急躁、感到似乎将有可怕的事情发生而害怕等。这些症状可能与肿瘤、心理健康问题、治疗过程相关，也可能与患者的日常功能损害、治疗满意度、合作治疗方式、医患沟通、治疗获得信息等方面有关。'}"
      ]
     },
     "execution_count": 18,
     "metadata": {},
     "output_type": "execute_result"
    }
   ],
   "source": [
    "qa.invoke(' 医学难以解释的症状是什么？')"
   ]
  },
  {
   "cell_type": "code",
   "execution_count": 19,
   "metadata": {},
   "outputs": [
    {
     "name": "stderr",
     "output_type": "stream",
     "text": [
      "d:\\GitHub\\envs\\breastvsp\\lib\\site-packages\\langchain_core\\_api\\deprecation.py:189: LangChainDeprecationWarning: The function `run` was deprecated in LangChain 0.1.0 and will be removed in 0.2.0. Use invoke instead.\n",
      "  warn_deprecated(\n",
      "d:\\GitHub\\envs\\breastvsp\\lib\\site-packages\\langchain_core\\_api\\deprecation.py:189: LangChainDeprecationWarning: The function `__call__` was deprecated in LangChain 0.1.0 and will be removed in 0.2.0. Use invoke instead.\n",
      "  warn_deprecated(\n",
      "d:\\GitHub\\envs\\breastvsp\\lib\\site-packages\\langchain_core\\_api\\deprecation.py:189: LangChainDeprecationWarning: The function `__call__` was deprecated in LangChain 0.1.0 and will be removed in 0.2.0. Use invoke instead.\n",
      "  warn_deprecated(\n"
     ]
    },
    {
     "data": {
      "text/plain": [
       "{'query': '骨痛是什么？',\n",
       " 'result': '骨痛是一种骨骼疾病，患者通常会感到骨骼部位的疼痛。骨痛可能是由各种原因引起的，如骨折、骨关节炎、骨质疏松等。在处理骨痛时，专家建议可以通过检测进行诊断，如影像学、B超和骨髓检测，以确定患者是否存在骨转移。治疗骨痛的方法可能因患者具体情况而异，可能包括停止使用相关药物、进行氧疗、运动疗法等。同时，专家建议对患者进行体重管理，以肥胖患者为例，需要进行健康饮食和运动干预。在治疗骨痛的过程中，应根据患者具体情况进行针对性的处理。'}"
      ]
     },
     "execution_count": 19,
     "metadata": {},
     "output_type": "execute_result"
    }
   ],
   "source": [
    "qa.invoke('骨痛是什么？')"
   ]
  },
  {
   "cell_type": "code",
   "execution_count": 20,
   "metadata": {},
   "outputs": [],
   "source": [
    "import torch"
   ]
  },
  {
   "cell_type": "code",
   "execution_count": 23,
   "metadata": {},
   "outputs": [],
   "source": [
    "torch.cuda.empty_cache()"
   ]
  },
  {
   "cell_type": "code",
   "execution_count": 22,
   "metadata": {},
   "outputs": [
    {
     "name": "stderr",
     "output_type": "stream",
     "text": [
      "d:\\GitHub\\envs\\breastvsp\\lib\\site-packages\\langchain_core\\_api\\deprecation.py:189: LangChainDeprecationWarning: The function `run` was deprecated in LangChain 0.1.0 and will be removed in 0.2.0. Use invoke instead.\n",
      "  warn_deprecated(\n",
      "d:\\GitHub\\envs\\breastvsp\\lib\\site-packages\\langchain_core\\_api\\deprecation.py:189: LangChainDeprecationWarning: The function `__call__` was deprecated in LangChain 0.1.0 and will be removed in 0.2.0. Use invoke instead.\n",
      "  warn_deprecated(\n",
      "d:\\GitHub\\envs\\breastvsp\\lib\\site-packages\\langchain_core\\_api\\deprecation.py:189: LangChainDeprecationWarning: The function `__call__` was deprecated in LangChain 0.1.0 and will be removed in 0.2.0. Use invoke instead.\n",
      "  warn_deprecated(\n"
     ]
    },
    {
     "data": {
      "text/plain": [
       "{'query': '骨痛怎么办？',\n",
       " 'result': '骨痛的处理可以参考以下专家建议：\\n\\n1. 诊断：通过影像学、B超和骨髓检测进行诊断，以确定患者是否存在骨转移。\\n2. 治疗：停止使用相关药物后，相关骨痛症状可能消失。对于未出现肌肉骨骼疼痛的患者，加强患者对可能出现的肌肉骨骼疼痛的了解，鼓励参加运动和力量训练、瑜伽等。肥胖患者需要进行体重管理。\\n3. 运动干预：针对出现肌肉骨骼疼痛的患者，可以通过针灸（包括有氧训练、力量训练、瑜伽等）来改善症状。AI可以缓解患者的肌肉骨骼疼痛。'}"
      ]
     },
     "execution_count": 22,
     "metadata": {},
     "output_type": "execute_result"
    }
   ],
   "source": [
    "qa.invoke('骨痛怎么办？')"
   ]
  },
  {
   "cell_type": "code",
   "execution_count": null,
   "metadata": {},
   "outputs": [],
   "source": []
  }
 ],
 "metadata": {
  "kernelspec": {
   "display_name": "breastvsp",
   "language": "python",
   "name": "python3"
  },
  "language_info": {
   "codemirror_mode": {
    "name": "ipython",
    "version": 3
   },
   "file_extension": ".py",
   "mimetype": "text/x-python",
   "name": "python",
   "nbconvert_exporter": "python",
   "pygments_lexer": "ipython3",
   "version": "3.10.13"
  }
 },
 "nbformat": 4,
 "nbformat_minor": 2
}
