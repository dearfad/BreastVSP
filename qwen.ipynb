{
 "cells": [
  {
   "cell_type": "code",
   "execution_count": 3,
   "metadata": {},
   "outputs": [],
   "source": [
    "from getpass import getpass\n",
    "import dashscope\n",
    "import os\n",
    "\n",
    "DASHSCOPE_API_KEY = getpass()\n",
    "\n",
    "os.environ[\"DASHSCOPE_API_KEY\"] = DASHSCOPE_API_KEY"
   ]
  },
  {
   "cell_type": "code",
   "execution_count": 4,
   "metadata": {},
   "outputs": [
    {
     "data": {
      "text/plain": [
       "{'question': 'What NFL team won the Super Bowl in the year Justin Beiber was born?',\n",
       " 'text': 'To answer this question, we first need to determine the year Justin Bieber was born. Justin Bieber was born on March 1, 1994.\\n\\nThe next step is to identify which Super Bowl took place in that same year. The NFL season typically concludes with the Super Bowl in early February of the following calendar year. So for the 1994 season, the Super Bowl would have been played in January or early February of 1995.\\n\\nSuper Bowl XXIX (29) was played on January 29, 1995, at Qualcomm Stadium in San Diego, California. The winner of that game was the San Francisco 49ers, who defeated the San Diego Chargers with a score of 49-26. \\n\\nSo, the NFL team that won the Super Bowl in the year Justin Bieber was born was the San Francisco 49ers.'}"
      ]
     },
     "execution_count": 4,
     "metadata": {},
     "output_type": "execute_result"
    }
   ],
   "source": [
    "from langchain.chains import LLMChain\n",
    "from langchain.prompts import PromptTemplate\n",
    "from langchain_community.llms import Tongyi\n",
    "\n",
    "template = \"\"\"Question: {question}\n",
    "Answer: Let's think step by step.\"\"\"\n",
    "prompt = PromptTemplate(template=template, input_variables=[\"question\"])\n",
    "llm = Tongyi()\n",
    "llm_chain = LLMChain(prompt=prompt, llm=llm)\n",
    "question = \"What NFL team won the Super Bowl in the year Justin Beiber was born?\"\n",
    "llm_chain.invoke(question)"
   ]
  },
  {
   "cell_type": "code",
   "execution_count": 6,
   "metadata": {},
   "outputs": [
    {
     "data": {
      "text/plain": [
       "'北京的春天通常在每年的3月中下旬到4月初开始。当然，这只是一个大致的时间范围，因为春季的到来会受到气候变化等多种因素的影响，可能会有所提前或推迟。具体的春天来临时间可以根据当年气候条件的变化而变化。'"
      ]
     },
     "execution_count": 6,
     "metadata": {},
     "output_type": "execute_result"
    }
   ],
   "source": [
    "question = \"北京的春天什么时候到?\"\n",
    "\n",
    "llm_chain.invoke(question)['text']"
   ]
  },
  {
   "cell_type": "code",
   "execution_count": null,
   "metadata": {},
   "outputs": [],
   "source": []
  }
 ],
 "metadata": {
  "kernelspec": {
   "display_name": "breastvsp",
   "language": "python",
   "name": "python3"
  },
  "language_info": {
   "codemirror_mode": {
    "name": "ipython",
    "version": 3
   },
   "file_extension": ".py",
   "mimetype": "text/x-python",
   "name": "python",
   "nbconvert_exporter": "python",
   "pygments_lexer": "ipython3",
   "version": "3.10.13"
  }
 },
 "nbformat": 4,
 "nbformat_minor": 2
}
